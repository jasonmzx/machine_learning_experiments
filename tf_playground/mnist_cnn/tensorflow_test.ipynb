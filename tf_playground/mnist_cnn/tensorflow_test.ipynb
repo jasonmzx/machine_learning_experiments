{
 "cells": [
  {
   "cell_type": "markdown",
   "id": "5bceebea",
   "metadata": {},
   "source": [
    "### Jason's First Tensorflow Project\n",
    "Acknowledgement: Thanks for helping me understand how/why we chose this model architecture, and how to actually build this, to my friend Xavier. :-) \n",
    "\n",
    "https://stackoverflow.com/questions/54778630/could-not-install-packages-due-to-an-environmenterror-errno-2-no-such-file-or"
   ]
  },
  {
   "cell_type": "code",
   "execution_count": 1,
   "id": "600a5cb2",
   "metadata": {
    "scrolled": true
   },
   "outputs": [
    {
     "name": "stdout",
     "output_type": "stream",
     "text": [
      "X_Train's Shape: (Before Re-shaping)  (60000, 28, 28) \n",
      "\n",
      "X_Train's Shape: (After Re-shaping)  (60000, 28, 28, 1)\n"
     ]
    }
   ],
   "source": [
    "import tensorflow as tf\n",
    "import matplotlib.pyplot as plt\n",
    "import numpy as np\n",
    "\n",
    "from tensorflow.keras.datasets import mnist\n",
    "(X_train, Y_train), (X_test, Y_test) = mnist.load_data()\n",
    "\n",
    "print(\"X_Train's Shape: (Before Re-shaping) \", X_train.shape, \"\\n\" )\n",
    "\n",
    "# Since there is only 1 channel, (brightness of pixel) we reshape the X_train & X_test tensors to 1 channel\n",
    "\n",
    "X_train = X_train.reshape(X_train.shape[0], 28, 28, 1)\n",
    "X_test = X_test.reshape(X_test.shape[0], 28, 28, 1)\n",
    "\n",
    "print(\"X_Train's Shape: (After Re-shaping) \", X_train.shape )\n"
   ]
  },
  {
   "cell_type": "code",
   "execution_count": 2,
   "id": "c184c663",
   "metadata": {
    "scrolled": true
   },
   "outputs": [
    {
     "data": {
      "image/png": "[encoded data removed]",
      "text/plain": [
       "<Figure size 640x480 with 1 Axes>"
      ]
     },
     "metadata": {},
     "output_type": "display_data"
    },
    {
     "name": "stdout",
     "output_type": "stream",
     "text": [
      "Associated Label :  5\n"
     ]
    }
   ],
   "source": [
    "#Normalizing Data:\n",
    "\n",
    "# - Types are now float32 and normalized from 0 to 1 values (avoid negatives or other weird stuff in dataset)\n",
    "X_train = X_train.astype('float32')\n",
    "X_test = X_test.astype('float32')\n",
    "\n",
    "# 0 -> 255 to 0 -> 1 (Normalized in terms of a percentage)\n",
    "X_train = tf.keras.utils.normalize(X_train, axis=1)  # scales data between 0 and 1\n",
    "X_test = tf.keras.utils.normalize(X_test, axis=1)  # scales data between 0 and 1\n",
    "\n",
    "\n",
    "#Display something with matplotlib:\n",
    "#Grab first image from training dataset & convert to np array of floats\n",
    "first_image = X_train[0]\n",
    "first_image = np.array(first_image, dtype='float')\n",
    "\n",
    "pixels = first_image.reshape((28, 28))\n",
    "plt.imshow(pixels, cmap='gray')\n",
    "plt.show()\n",
    "print(\"Associated Label : \" , Y_train[0])"
   ]
  },
  {
   "cell_type": "markdown",
   "id": "f96bca79",
   "metadata": {},
   "source": [
    "#### Now let's pre-process the Labels aswell\n",
    "- keras [utils.to_categorical](https://www.tensorflow.org/api_docs/python/tf/keras/utils/to_categorical) is used like: `to_categorical(dataset, num_classes)` This will define the amount of unique class labels **(A.K.A Unique Categorical Attrib)** to `num_classes` integer "
   ]
  },
  {
   "cell_type": "code",
   "execution_count": 3,
   "id": "9ee62a47",
   "metadata": {
    "scrolled": true
   },
   "outputs": [
    {
     "name": "stdout",
     "output_type": "stream",
     "text": [
      "[5 0 4 1 9 2 1 3 1 4]\n",
      "Y_Train's Shape: (after pre-processing) (60000, 10)\n"
     ]
    }
   ],
   "source": [
    "print( Y_train[:10] )\n",
    "#And there’s the problem. The y_train and y_test data are not split into 10 distinct class labels, \n",
    "#but rather are represented as a single array with the class values.\n",
    "\n",
    "Y_train = tf.keras.utils.to_categorical(Y_train, 10)\n",
    "Y_test = tf.keras.utils.to_categorical(Y_test, 10)\n",
    "\n",
    "print( \"Y_Train's Shape: (after pre-processing)\", Y_train.shape )"
   ]
  },
  {
   "cell_type": "markdown",
   "id": "95dcd5f6",
   "metadata": {},
   "source": [
    "### Defining the Model:\n",
    "\n",
    "The `28 x 28` image will be convoluted to extract features from kernels of **n** size. (n here refers to the amount of time the image is split vertically & horizontally, then calculated with the kernel matrix that the **NN** decides) from here the layers are pooled, then pipelined thru some dense layers.\n",
    "\n",
    "**Model type & Input Shape:**\n",
    "\n",
    "- I've chosen the `Sequential` Model, which indicates that this model only feed's forward from input to output. This works for our application since we don't need to go back and retrieve additional info.\n",
    "- `input_shape` refers to how **Input Layer** data is represented, in this case we've got a 2D tensor with 1 channel that we're feeding into our 2D Convolution layer. So we'll shape the data based on 2 dimensions X & Y which are both 28, and 1 channel *(brightness).* `input_shape(28,28,1)`\n",
    "\n",
    "**keras [Conv2D](https://keras.io/api/layers/convolution_layers/convolution2d/) (Convolution) Layer:**\n",
    "\n",
    "- Here i'm using Convolution layers to gather features from the Image, by splitting up the image into sub-sections, and applying a learnt matrix *(This is what the NN learns)* to simply the input data whilst still skewing it into the right direction. (Or in training, optimizing for this correct direction)\n",
    "\n",
    "- By gathering a convoluted value from a matrix operation, I've gathered a so called **Feature** , this could indicate if the sub-section was a straight line, diagonal or something. (This is how the popular **Canny** Edge Detection Algorithm is implemented, they essentially convolute the image with an [*Gaussian Kernel(s)*](https://automaticaddison.com/how-the-canny-edge-detector-works/#:~:text=More%20formally%2C%20in%20step%201%20of%20the%20Canny,example%205%C3%975%20Gaussian%20kernel%20that%20can%20be%20used.) )\n",
    "\n",
    "- Here i'm use Convolution layers like so: `tf.keras.layers.Conv2D(n_filters, kernel_size_tuple, activation='relu')`\n",
    "\n",
    "**keras Max Pooling (MaxPool2D) Layer:**\n",
    "\n",
    "[Cool MaxPooling2D Explanation on YT](https://youtu.be/EvpXqLrhaYI)\n",
    "\n",
    "- **Max Pooling** essentially looks at all the sub-divided Convolution results, and **reduces features** by picking the best feature from a `pool_size` of the shape *(here pool size is 2x2)*. This helps the Dense layers by reducing input parameters (In this application, WITHOUT Max pool we'd have roughly **3 million** parameters going into the 128 Dense Layer, now it's only about **500k**) \n",
    "\n",
    "**keras Dense Layer:**\n",
    "\n",
    "- These are just regular neurons with Input(s) and an output. The output is determined by the `Summation( Inputs * Respective Weights) = x`, then plug `x` into `F(x)` where `F = Activation Function` a.k.a `activation=...`\n",
    "\n",
    "- Here our 128 Neuron Dense Layer uses the `ReLU` activation fn, and once it's reduced down to 10 Neurons, it uses the probablistic `softmax` activation function.\n",
    "\n",
    "**keras Dropout Layer:**\n",
    "[Good YouTube video from U of Washington for keras Dropout layer](https://www.youtube.com/watch?v=bRyOi0L6Rs8)\n",
    "\n",
    "- `keras.layers.Dropout( Percentage Of Dropout as float )` Randomly drops out neurons from the layer it's called after. *(The amount it drops is based on the Percentage inputed as parameter)*\n",
    "\n",
    "- Example: If you go to work, and everyday your boss tells half the staff to go home *(but these staff members are picked at random)* This would every employee more flexible, and not highly specific towards one task or feature *(Since they need to preform different things everyday)*\n",
    "\n",
    "- Dropout is usually used to prevent overfitting models, since it mitigates (\"randomness\"), and doesn't allow neurons to get hyper specific.\n",
    "\n",
    "- Attempts to simulate a bunch of neural nets with varying neurons \n",
    "\n",
    "    ##### Using Dropout in our Model:\n",
    "    - low dropout *(25%)* the Dropout is directly affecting the neurons of the MaxPool2D layer.\n",
    "    - 50% Dropout is directly affecting the neurons of the 128 Dense layer *(the ReLU activation one)*\n",
    "\n",
    "## Model Architecture (Convolutional Neural Network)\n",
    "\n",
    "Drawing:\n",
    "\n",
    "![Model Architecture](./model_arch.jpg)\n",
    "\n",
    "Essentially, I'm propagating the Input shape of 28x28 thru convolutions and poolings until it gets relatively small, from here Dropout data to maintain flexibility and use 2 dense layers **(last dense layer with softmax activation for the probabilistic values)** How much chance is this of being a 5? The output of this model is essentially a 10 element array of floats, each float representing that digit's corrolating to the data point shown *(Index & digit are respective)*\n"
   ]
  },
  {
   "cell_type": "code",
   "execution_count": 10,
   "id": "2f8229f9",
   "metadata": {
    "scrolled": false
   },
   "outputs": [
    {
     "name": "stdout",
     "output_type": "stream",
     "text": [
      "Model: \"sequential_1\"\n",
      "_________________________________________________________________\n",
      " Layer (type)                Output Shape              Param #   \n",
      "=================================================================\n",
      " conv2d_2 (Conv2D)           (None, 25, 25, 32)        544       \n",
      "                                                                 \n",
      " conv2d_3 (Conv2D)           (None, 24, 24, 32)        4128      \n",
      "                                                                 \n",
      " max_pooling2d_1 (MaxPooling  (None, 12, 12, 32)       0         \n",
      " 2D)                                                             \n",
      "                                                                 \n",
      " dropout_2 (Dropout)         (None, 12, 12, 32)        0         \n",
      "                                                                 \n",
      " flatten_1 (Flatten)         (None, 4608)              0         \n",
      "                                                                 \n",
      " dense_2 (Dense)             (None, 128)               589952    \n",
      "                                                                 \n",
      " dropout_3 (Dropout)         (None, 128)               0         \n",
      "                                                                 \n",
      " dense_3 (Dense)             (None, 10)                1290      \n",
      "                                                                 \n",
      "=================================================================\n",
      "Total params: 595,914\n",
      "Trainable params: 595,914\n",
      "Non-trainable params: 0\n",
      "_________________________________________________________________\n"
     ]
    }
   ],
   "source": [
    "#Tutorial Mode using keras Sequential, and only Dense layers\n",
    "\n",
    "#model = tf.keras.models.Sequential()  # a basic feed-forward model\n",
    "#model.add(tf.keras.layers.Flatten())  # takes our 28x28 and makes it 1x784\n",
    "#model.add(tf.keras.layers.Dense(128, activation=tf.nn.relu))  # a simple fully-connected layer, 128 units, relu activation\n",
    "#model.add(tf.keras.layers.Dense(128, activation=tf.nn.relu))  # a simple fully-connected layer, 128 units, relu activation\n",
    "#model.add(tf.keras.layers.Dense(10, activation=tf.nn.softmax))  \n",
    "# our output layer. 10 units for 10 classes. Softmax for probability distribution\n",
    "\n",
    "#model.compile(optimizer='adam',  # Good default optimizer to start with\n",
    "#              loss='sparse_categorical_crossentropy',  # how will we calculate our \"error.\" \n",
    "#Neural network aims to minimize loss.\n",
    "#              metrics=['accuracy'])  # what to track\n",
    "\n",
    "#My own implementation (With the help of Xav's insight)\n",
    "\n",
    "model = tf.keras.models.Sequential() \n",
    "model.add(tf.keras.layers.Conv2D(32, (4,4), activation='relu', input_shape=(28,28,1)))\n",
    "model.add(tf.keras.layers.Conv2D(32, (2,2), activation='relu'))\n",
    "model.add(tf.keras.layers.MaxPool2D(pool_size=(2,2)))\n",
    "model.add(tf.keras.layers.Dropout(0.25))\n",
    " \n",
    "model.add(tf.keras.layers.Flatten())\n",
    "model.add(tf.keras.layers.Dense(128, activation='relu'))\n",
    "model.add(tf.keras.layers.Dropout(0.5))\n",
    "model.add(tf.keras.layers.Dense(10, activation='softmax'))\n",
    "model.summary()"
   ]
  },
  {
   "cell_type": "code",
   "execution_count": 11,
   "id": "d3e27191",
   "metadata": {
    "scrolled": true
   },
   "outputs": [],
   "source": [
    "model.compile(loss='categorical_crossentropy',\n",
    "              optimizer='adam',\n",
    "              metrics=['accuracy'])"
   ]
  },
  {
   "cell_type": "code",
   "execution_count": 12,
   "id": "674fdc20",
   "metadata": {
    "scrolled": true
   },
   "outputs": [
    {
     "name": "stdout",
     "output_type": "stream",
     "text": [
      "Epoch 1/5\n",
      "1875/1875 [==============================] - 28s 14ms/step - loss: 0.2490 - accuracy: 0.9251\n",
      "Epoch 2/5\n",
      "1875/1875 [==============================] - 26s 14ms/step - loss: 0.1033 - accuracy: 0.9697\n",
      "Epoch 3/5\n",
      "1875/1875 [==============================] - 26s 14ms/step - loss: 0.0778 - accuracy: 0.9774\n",
      "Epoch 4/5\n",
      "1875/1875 [==============================] - 26s 14ms/step - loss: 0.0644 - accuracy: 0.9804\n",
      "Epoch 5/5\n",
      "1875/1875 [==============================] - 28s 15ms/step - loss: 0.0540 - accuracy: 0.9837\n"
     ]
    },
    {
     "data": {
      "text/plain": [
       "<keras.callbacks.History at 0x14a4577f280>"
      ]
     },
     "execution_count": 12,
     "metadata": {},
     "output_type": "execute_result"
    }
   ],
   "source": [
    "# 9. Fit model on training data\n",
    "model.fit(X_train, Y_train, \n",
    "          batch_size=32, epochs=5, verbose=1)"
   ]
  },
  {
   "cell_type": "code",
   "execution_count": 13,
   "id": "865bad0b",
   "metadata": {
    "scrolled": true
   },
   "outputs": [
    {
     "name": "stdout",
     "output_type": "stream",
     "text": [
      "[0.03138218820095062, 0.9896000027656555]\n"
     ]
    }
   ],
   "source": [
    "score = model.evaluate(X_test, Y_test, verbose=0)\n",
    "print(score)"
   ]
  },
  {
   "cell_type": "code",
   "execution_count": 14,
   "id": "60d72268",
   "metadata": {
    "scrolled": false
   },
   "outputs": [
    {
     "name": "stdout",
     "output_type": "stream",
     "text": [
      "313/313 [==============================] - 1s 3ms/step\n",
      "PREDICTION AT DATA INDEX: 0 --> 7\n"
     ]
    },
    {
     "data": {
      "image/png": "[encoded data removed]",
      "text/plain": [
       "<Figure size 640x480 with 1 Axes>"
      ]
     },
     "metadata": {},
     "output_type": "display_data"
    },
    {
     "name": "stdout",
     "output_type": "stream",
     "text": [
      "This value's label is:  7 \n",
      "\n",
      "\n",
      "PREDICTION AT DATA INDEX: 1 --> 2\n"
     ]
    },
    {
     "data": {
      "image/png": "[encoded data removed]",
      "text/plain": [
       "<Figure size 640x480 with 1 Axes>"
      ]
     },
     "metadata": {},
     "output_type": "display_data"
    },
    {
     "name": "stdout",
     "output_type": "stream",
     "text": [
      "This value's label is:  2 \n",
      "\n",
      "\n",
      "PREDICTION AT DATA INDEX: 5 --> 1\n"
     ]
    },
    {
     "data": {
      "image/png": "[encoded data removed]",
      "text/plain": [
       "<Figure size 640x480 with 1 Axes>"
      ]
     },
     "metadata": {},
     "output_type": "display_data"
    },
    {
     "name": "stdout",
     "output_type": "stream",
     "text": [
      "This value's label is:  1 \n",
      "\n",
      "\n",
      "PREDICTION AT DATA INDEX: 10 --> 0\n"
     ]
    },
    {
     "data": {
      "image/png": "[encoded data removed]",
      "text/plain": [
       "<Figure size 640x480 with 1 Axes>"
      ]
     },
     "metadata": {},
     "output_type": "display_data"
    },
    {
     "name": "stdout",
     "output_type": "stream",
     "text": [
      "This value's label is:  0 \n",
      "\n",
      "\n",
      "PREDICTION AT DATA INDEX: 11 --> 6\n"
     ]
    },
    {
     "data": {
      "image/png": "[encoded data removed]",
      "text/plain": [
       "<Figure size 640x480 with 1 Axes>"
      ]
     },
     "metadata": {},
     "output_type": "display_data"
    },
    {
     "name": "stdout",
     "output_type": "stream",
     "text": [
      "This value's label is:  6 \n",
      "\n",
      "\n",
      "PREDICTION AT DATA INDEX: 12 --> 9\n"
     ]
    },
    {
     "data": {
      "image/png": "[encoded data removed]",
      "text/plain": [
       "<Figure size 640x480 with 1 Axes>"
      ]
     },
     "metadata": {},
     "output_type": "display_data"
    },
    {
     "name": "stdout",
     "output_type": "stream",
     "text": [
      "This value's label is:  9 \n",
      "\n",
      "\n"
     ]
    }
   ],
   "source": [
    "#Let's try and run some predictions\n",
    "\n",
    "#This function makes it easy to display the model's prediction & the associated image it predicted on\n",
    "def visual_prediction_check(predictions, data, y_data, index):\n",
    "\n",
    "    #Display the model's prediction (in console)\n",
    "    print(\"PREDICTION AT DATA INDEX:\",str(index)+\" -->\", np.argmax(predictions[index]) )\n",
    "    \n",
    "    #Display the 28 x 28 img\n",
    "    plt.imshow(data[index], cmap='gray')\n",
    "    plt.show()\n",
    "    print(\"This value's label is: \",np.argmax(y_data[index]),\"\\n\\n\")\n",
    "    \n",
    "    \n",
    "#Making predictions on my Testing Dataset     \n",
    "new_predictions = model.predict(X_test)    \n",
    "\n",
    "#Calling my visual predictions function to check out some predictions the model made\n",
    "visual_prediction_check(new_predictions, X_test, Y_test, 0)\n",
    "visual_prediction_check(new_predictions, X_test, Y_test, 1)\n",
    "visual_prediction_check(new_predictions, X_test, Y_test, 5)\n",
    "visual_prediction_check(new_predictions, X_test, Y_test, 10)\n",
    "visual_prediction_check(new_predictions, X_test, Y_test, 11)\n",
    "visual_prediction_check(new_predictions, X_test, Y_test, 12)"
   ]
  },
  {
   "cell_type": "code",
   "execution_count": null,
   "id": "5ebd0f43",
   "metadata": {
    "scrolled": true
   },
   "outputs": [],
   "source": []
  }
 ],
 "metadata": {
  "kernelspec": {
   "display_name": "Python 3 (ipykernel)",
   "language": "python",
   "name": "python3"
  },
  "language_info": {
   "codemirror_mode": {
    "name": "ipython",
    "version": 3
   },
   "file_extension": ".py",
   "mimetype": "text/x-python",
   "name": "python",
   "nbconvert_exporter": "python",
   "pygments_lexer": "ipython3",
   "version": "3.10.0"
  }
 },
 "nbformat": 4,
 "nbformat_minor": 5
}
